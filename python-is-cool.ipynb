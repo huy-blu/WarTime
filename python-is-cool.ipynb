{
 "cells": [
  {
   "cell_type": "markdown",
   "metadata": {},
   "source": [
    "# Python is cool"
   ]
  },
  {
   "cell_type": "markdown",
   "metadata": {},
   "source": [
    "The article is re-made from the source github [huyen-chip](https://github.com/chiphuyen/python-is-cool#1-lambda-map-filter-reduce)"
   ]
  },
  {
   "cell_type": "markdown",
   "metadata": {},
   "source": [
    " #### Table of contents\n",
    " 1. [Lambda, map, filter, reduce](#I)\n",
    " 2. [List manipulation](#II)\n",
    " 3. [Classes and magic methods](#III)\n",
    " 4. [Local namespace, object's attributes](#IV)\n",
    " 5. [Wild import](#VI)\n",
    " 6. [Decorator to time your functions](#VI)\n",
    " 7. [Caching with @functools.lru_cache](#VII)\n"
   ]
  },
  {
   "cell_type": "markdown",
   "metadata": {},
   "source": [
    "### I. Lambda, map, filter, reduce <a name= \"I\"></a>"
   ]
  },
  {
   "cell_type": "markdown",
   "metadata": {},
   "source": [
    "> **The lambda** keyword is used to create function inline."
   ]
  },
  {
   "cell_type": "code",
   "execution_count": 8,
   "metadata": {},
   "outputs": [
    {
     "name": "stdout",
     "output_type": "stream",
     "text": [
      "Square function:25\n",
      "Square lambda: 25\n"
     ]
    }
   ],
   "source": [
    "# Function\n",
    "def square_fn(x):\n",
    "    return x*x\n",
    "# Lambda\n",
    "square_lbd= lambda x: x*x\n",
    "\n",
    "print('Square function:' + str(square_fn(5))) \n",
    "print('Square lambda: ' + str(square_lbd(5)))"
   ]
  },
  {
   "cell_type": "code",
   "execution_count": 13,
   "metadata": {},
   "outputs": [],
   "source": [
    "for i in range(10):\n",
    "    assert square_fn(i) == square_lbd(i)\n",
    "# assert: check condition is True    "
   ]
  },
  {
   "cell_type": "markdown",
   "metadata": {},
   "source": [
    "They are especially useful when used in conjunction with function like **filter, map and reduce** "
   ]
  },
  {
   "cell_type": "markdown",
   "metadata": {},
   "source": [
    "> ##### map(function, iterable)"
   ]
  },
  {
   "cell_type": "code",
   "execution_count": 25,
   "metadata": {},
   "outputs": [
    {
     "name": "stdout",
     "output_type": "stream",
     "text": [
      "[0.1111111111111111, 2263.0408163265306, 1.0851472983570953, 1.384083044982699, 0.4444444444444444]\n",
      "[0.1111111111111111, 2263.0408163265306, 1.0851472983570953, 1.384083044982699, 0.4444444444444444]\n",
      "[0.1111111111111111, 2263.0408163265306, 1.0851472983570953, 1.384083044982699, 0.4444444444444444]\n"
     ]
    }
   ],
   "source": [
    "nums = [1/3, 333/7, 2323/2230, 40/34, 2/3]\n",
    "num_square1= [num*num for num in nums]\n",
    "print(num_square1)\n",
    "\n",
    "# used to map\n",
    "num_square2= map(square_fn, nums)\n",
    "print(list(num_square2))\n",
    "\n",
    "# used to map conjuction lambda\n",
    "num_square3= map(square_lbd, nums)\n",
    "print(list(num_square3))"
   ]
  },
  {
   "cell_type": "markdown",
   "metadata": {},
   "source": [
    "You can also use **map** with more than on iterable. For example, if you want to calculate the mean squared error of a simple linear function *f(x)= ax+b* with the true label *labels*, these two method are equivalent: "
   ]
  },
  {
   "cell_type": "code",
   "execution_count": 32,
   "metadata": {},
   "outputs": [
    {
     "name": "stdout",
     "output_type": "stream",
     "text": [
      "0.35089172119045514 0.35089172119045514\n"
     ]
    }
   ],
   "source": [
    "a, b = 3, -0.5\n",
    "xs = [2, 3, 4, 5]\n",
    "labels = [6.4, 8.9, 10.9, 15.3]\n",
    "\n",
    "# Method 1: using a loop\n",
    "errors = []\n",
    "for i, x in enumerate(xs):\n",
    "    errors.append((a * x + b - labels[i]) ** 2)\n",
    "    # ** pow: 3 ** 2 = 9\n",
    "result1 = sum(errors) ** 0.5 / len(xs)\n",
    "\n",
    "# Method 2: using a map\n",
    "errors_2 = map(lambda x, y: (a * x + b - y) ** 2, xs, labels)\n",
    "result2 = sum(errors_2) ** 0.5 / len(xs)\n",
    "\n",
    "print(result1, result2)"
   ]
  },
  {
   "cell_type": "markdown",
   "metadata": {},
   "source": [
    "> ##### filter(function, iterable)"
   ]
  },
  {
   "cell_type": "code",
   "execution_count": 34,
   "metadata": {},
   "outputs": [
    {
     "name": "stdout",
     "output_type": "stream",
     "text": [
      "[7, 8]\n"
     ]
    }
   ],
   "source": [
    "bad_preds = filter(lambda x: x > 5, [2, 4, 7, 8])\n",
    "print(list(bad_preds))"
   ]
  },
  {
   "cell_type": "markdown",
   "metadata": {},
   "source": [
    "> ##### reduce(function, iterable, initializer)"
   ]
  },
  {
   "cell_type": "markdown",
   "metadata": {},
   "source": [
    "**reduce** is used when we want to iteratively apply an operator to all elements in a list. For example, if we want to calculate the product of all elements in a list: "
   ]
  },
  {
   "cell_type": "code",
   "execution_count": 39,
   "metadata": {},
   "outputs": [
    {
     "name": "stdout",
     "output_type": "stream",
     "text": [
      "15\n",
      "15\n"
     ]
    }
   ],
   "source": [
    "nums = [4, 5, 6]\n",
    "product1= 0\n",
    "for num in nums:\n",
    "    product1 +=num\n",
    "print(product1)\n",
    "\n",
    "# using a reduce\n",
    "from functools import reduce\n",
    "product2 = reduce(lambda x, y: x + y, nums)\n",
    "print(product2)"
   ]
  },
  {
   "cell_type": "markdown",
   "metadata": {},
   "source": [
    "#### Note on the performance of lambda functions\n",
    "**lambda** function are meant for one time use. Each time *lambda x: dosomething(x)* is called, the function has to be created, which hures the performance if you call *lambda x: dosomething(x)* multiple times(e.g. when you pass it inside **reduce**)\n",
    "\n",
    "When you assign a name to the lambda function as in *fn = lambda x: dosomething(x)*, its performance is slightly slower than the same function defined using **def**, but the difference is negligible.\n"
   ]
  },
  {
   "cell_type": "markdown",
   "metadata": {},
   "source": [
    "### II. List manipulation<a name= \"II\"></a>"
   ]
  },
  {
   "cell_type": "markdown",
   "metadata": {},
   "source": [
    "#### Slicing"
   ]
  },
  {
   "cell_type": "code",
   "execution_count": 41,
   "metadata": {},
   "outputs": [
    {
     "name": "stdout",
     "output_type": "stream",
     "text": [
      "[0, 1, 2, 3, 4, 5, 6, 7, 8, 9]\n"
     ]
    }
   ],
   "source": [
    "elems = list(range(10))\n",
    "print(elems)"
   ]
  },
  {
   "cell_type": "code",
   "execution_count": 44,
   "metadata": {},
   "outputs": [
    {
     "name": "stdout",
     "output_type": "stream",
     "text": [
      "[0, 1, 2, 3, 4, 5, 6, 7, 8, 9]\n"
     ]
    }
   ],
   "source": [
    "print(elems[::])"
   ]
  },
  {
   "cell_type": "code",
   "execution_count": 42,
   "metadata": {},
   "outputs": [
    {
     "name": "stdout",
     "output_type": "stream",
     "text": [
      "[9, 8, 7, 6, 5, 4, 3, 2, 1, 0]\n"
     ]
    }
   ],
   "source": [
    "print(elems[::-1])"
   ]
  },
  {
   "cell_type": "code",
   "execution_count": 43,
   "metadata": {},
   "outputs": [
    {
     "name": "stdout",
     "output_type": "stream",
     "text": [
      "[9, 7, 5, 3, 1]\n"
     ]
    }
   ],
   "source": [
    "print(elems[::-2])"
   ]
  },
  {
   "cell_type": "code",
   "execution_count": 45,
   "metadata": {},
   "outputs": [
    {
     "name": "stdout",
     "output_type": "stream",
     "text": [
      "[0, 2, 4, 6, 8]\n"
     ]
    }
   ],
   "source": [
    "print(elems[::2])"
   ]
  },
  {
   "cell_type": "code",
   "execution_count": 46,
   "metadata": {},
   "outputs": [
    {
     "name": "stdout",
     "output_type": "stream",
     "text": [
      "[1, 2, 3, 4]\n"
     ]
    }
   ],
   "source": [
    "print(elems[1:5])"
   ]
  },
  {
   "cell_type": "code",
   "execution_count": 49,
   "metadata": {},
   "outputs": [
    {
     "name": "stdout",
     "output_type": "stream",
     "text": [
      "[7, 8, 9]\n"
     ]
    }
   ],
   "source": [
    "print(elems[-3::])"
   ]
  },
  {
   "cell_type": "code",
   "execution_count": 54,
   "metadata": {},
   "outputs": [
    {
     "name": "stdout",
     "output_type": "stream",
     "text": [
      "[8, 6, 4, 2, 0]\n"
     ]
    }
   ],
   "source": [
    "print(elems[-2::-2])"
   ]
  },
  {
   "cell_type": "markdown",
   "metadata": {},
   "source": [
    "#### Flattenning\n",
    "We can **flatten** a list of lists using **sum**"
   ]
  },
  {
   "cell_type": "code",
   "execution_count": 59,
   "metadata": {},
   "outputs": [
    {
     "name": "stdout",
     "output_type": "stream",
     "text": [
      "[1, 2, 3, 4, 5, 6]\n"
     ]
    }
   ],
   "source": [
    "list_of_lists = ([1], [2, 3], [4, 5, 6])\n",
    "print(sum(list_of_lists, []))"
   ]
  },
  {
   "cell_type": "markdown",
   "metadata": {},
   "source": [
    "#### List vs generator\n",
    "To illustrate the difference between a list and a generator, let's look at an example of creating n-grams out of a list of tokens."
   ]
  },
  {
   "cell_type": "code",
   "execution_count": 66,
   "metadata": {},
   "outputs": [
    {
     "name": "stdout",
     "output_type": "stream",
     "text": [
      "[['i', 'want', 'to'], ['want', 'to', 'go'], ['to', 'go', 'school']]\n"
     ]
    }
   ],
   "source": [
    "tokens = ['i', 'want', 'to', 'go', 'school']\n",
    "def ngrams(tokens, n):\n",
    "    gram = []\n",
    "    for i in range(0, len(tokens)-n + 1):\n",
    "        gram.append(tokens[i:i+n])\n",
    "    return gram\n",
    "print(ngrams(tokens, 3))"
   ]
  },
  {
   "cell_type": "markdown",
   "metadata": {},
   "source": [
    "### III. Classes and magic methods<a name= \"III\"></a>"
   ]
  },
  {
   "cell_type": "markdown",
   "metadata": {},
   "source": [
    "In Python, magic methoss are prefixed and suffixed with the double underscore **__**, also known as dunder. The most wellknown magic method is probably **__**init**__**"
   ]
  },
  {
   "cell_type": "code",
   "execution_count": 75,
   "metadata": {},
   "outputs": [],
   "source": [
    "class Node:\n",
    "    ''' A struct to denote the node of a binary tree.\n",
    "    It contains a value a pointers to left and right children'''\n",
    "    def __init__(self, value, left=None, right=None):\n",
    "        self.value= value\n",
    "        self.left= left\n",
    "        self.right =right"
   ]
  },
  {
   "cell_type": "code",
   "execution_count": 76,
   "metadata": {},
   "outputs": [
    {
     "name": "stdout",
     "output_type": "stream",
     "text": [
      "<__main__.Node object at 0x00000215A902AA30>\n"
     ]
    }
   ],
   "source": [
    "root = Node(5)\n",
    "print(root)"
   ]
  },
  {
   "cell_type": "markdown",
   "metadata": {},
   "source": [
    "Ideally, when user prints out a node, we want to print out the node's value and the values of its children if it has children. To do so, we use the magic method **__**repr**__** , which must return a printable object, like string."
   ]
  },
  {
   "cell_type": "code",
   "execution_count": 77,
   "metadata": {},
   "outputs": [
    {
     "name": "stdout",
     "output_type": "stream",
     "text": [
      "value: 5,left: 4,right: None\n"
     ]
    }
   ],
   "source": [
    "class Node:\n",
    "    ''' A struct to denote the node of a binary tree.\n",
    "    It contains a value a pointers to left and right children'''\n",
    "    def __init__(self, value, left=None, right=None):\n",
    "        self.value= value\n",
    "        self.left= left\n",
    "        self.right =right\n",
    "    def __repr__(self):\n",
    "        strings = [f'value: {self.value}']\n",
    "        strings.append(f'left: {self.left.value}' if self.left else 'left: None')\n",
    "        strings.append(f'right: {self.right.value}' if self.right else 'right: None')\n",
    "        return ','.join(strings)\n",
    "left = Node(4)\n",
    "root = Node(5, left)\n",
    "print(root)"
   ]
  },
  {
   "cell_type": "markdown",
   "metadata": {},
   "source": [
    "We'd also like to compare two nodes by comparing their values. To do so, we overload the operator **==** with **__**eq**__**, **<** with **__**lt**__**, and **>=** **__**ge**__**"
   ]
  },
  {
   "cell_type": "code",
   "execution_count": 79,
   "metadata": {},
   "outputs": [
    {
     "name": "stdout",
     "output_type": "stream",
     "text": [
      "False\n",
      "True\n",
      "False\n"
     ]
    }
   ],
   "source": [
    "class Node:\n",
    "    ''' A struct to denote the node of a binary tree.\n",
    "    It contains a value a pointers to left and right children'''\n",
    "    def __init__(self, value, left=None, right=None):\n",
    "        self.value= value\n",
    "        self.left= left\n",
    "        self.right =right\n",
    "    def __repr__(self):\n",
    "        strings = [f'value: {self.value}']\n",
    "        strings.append(f'left: {self.left.value}' if self.left else 'left: None')\n",
    "        strings.append(f'right: {self.right.value}' if self.right else 'right: None')\n",
    "        return ','.join(strings)\n",
    "    def __eq__(self, other):\n",
    "        return self.value == other.value\n",
    "    def __lt__(self, other):\n",
    "        return self.value < other.value\n",
    "    def __ge__(self, other):\n",
    "        return self.value >= other.value\n",
    "left = Node(4)\n",
    "root = Node(5, left)\n",
    "print(left == root)\n",
    "print(left < root)\n",
    "print(left >= root)"
   ]
  },
  {
   "cell_type": "markdown",
   "metadata": {},
   "source": [
    "For a comprehensive list of supported magic methods [here](https://www.tutorialsteacher.com/python/magic-methods-in-python) or see the official Python documentation [here](https://docs.python.org/3/reference/datamodel.html#special-method-names) (slightly harder to read).\n",
    "\n",
    "Some of the methods that I highly recommend:\n",
    "\n",
    "+ **__**len**__**: to overload the len() function.\n",
    "+ **__**str**__**: to overload the str() function.\n",
    "+ **__**iter**__**: if you want to your objects to be iterators. This also allows you to call next() on your object.\n",
    "For classes like Node where we know for sure all the attributes they can support (in the case of Node, they are value, left, and right), we might want to use **__**slots**__** to denote those values for both performance boost and memory saving. For a comprehensive understanding of pros and cons of **__**slots**__**, see this [absolutely amazing answer by Aaron Hall on StackOverflow](https://stackoverflow.com/questions/472000/usage-of-slots/28059785#28059785)."
   ]
  },
  {
   "cell_type": "markdown",
   "metadata": {},
   "source": [
    "### IV. Local namespace, object's attributes<a name= \"IV\"></a>"
   ]
  },
  {
   "cell_type": "markdown",
   "metadata": {},
   "source": [
    "The **locals()** function returns a dictionary containning the variables definde in the local namespace"
   ]
  },
  {
   "cell_type": "code",
   "execution_count": 87,
   "metadata": {},
   "outputs": [
    {
     "name": "stdout",
     "output_type": "stream",
     "text": [
      "{'self': <__main__.Model1 object at 0x00000215A89E3D00>, 'hidden_size': 100, 'num_layers': 3, 'learning_rate': 0.0003}\n"
     ]
    }
   ],
   "source": [
    "class Model1: \n",
    "    def __init__(self, hidden_size=100, num_layers=3, learning_rate=3e-4):\n",
    "        print(locals())\n",
    "        self.hidden_size = hidden_size\n",
    "        self.num_layers = num_layers\n",
    "        self.learning_rate = learning_rate\n",
    "model1 = Model1()"
   ]
  },
  {
   "cell_type": "markdown",
   "metadata": {},
   "source": [
    "All attributes of an object are stored in its **__**dict**__**"
   ]
  },
  {
   "cell_type": "code",
   "execution_count": 88,
   "metadata": {},
   "outputs": [
    {
     "name": "stdout",
     "output_type": "stream",
     "text": [
      "{'hidden_size': 100, 'num_layers': 3, 'learning_rate': 0.0003}\n"
     ]
    }
   ],
   "source": [
    "print(model1.__dict__)"
   ]
  },
  {
   "cell_type": "markdown",
   "metadata": {},
   "source": [
    "Note that manually assigning each of the arguments to an attribute can be quite tiring when the list of the arguments is large. To avoid this, we can directly assign the list of arguments to the object's **__**dict**__**."
   ]
  },
  {
   "cell_type": "code",
   "execution_count": 90,
   "metadata": {},
   "outputs": [
    {
     "name": "stdout",
     "output_type": "stream",
     "text": [
      "{'hidden_size': 100, 'num_layers': 3, 'learning_rate': 0.0003}\n"
     ]
    }
   ],
   "source": [
    "class Model2: \n",
    "    def __init__(self, hidden_size=100, num_layers=3, learning_rate=3e-4):\n",
    "        params = locals()\n",
    "        del params['self']\n",
    "        self.__dict__ = params\n",
    "model2 = Model2()\n",
    "print(model2.__dict__)"
   ]
  },
  {
   "cell_type": "markdown",
   "metadata": {},
   "source": [
    "This can be especially convenient when the object is initiated using the catch-all ***kwargs, though the use of **kwargs should be reduced to the minimum."
   ]
  },
  {
   "cell_type": "code",
   "execution_count": 93,
   "metadata": {},
   "outputs": [
    {
     "name": "stdout",
     "output_type": "stream",
     "text": [
      "{'hidden_size': 100, 'num_layers': 3, 'learning_rate': 0.0003}\n"
     ]
    }
   ],
   "source": [
    "class Model3:\n",
    "    def __init__(self, **kwargs):\n",
    "        self.__dict__ = kwargs\n",
    "\n",
    "model3 = Model3(hidden_size=100, num_layers=3, learning_rate=3e-4)\n",
    "print(model3.__dict__)"
   ]
  },
  {
   "cell_type": "markdown",
   "metadata": {},
   "source": [
    "### V. Wild import<a name= \"V\"></a>"
   ]
  },
  {
   "cell_type": "markdown",
   "metadata": {},
   "source": [
    "Often, you run into this wild import * the looks something like this: "
   ]
  },
  {
   "cell_type": "code",
   "execution_count": null,
   "metadata": {},
   "outputs": [],
   "source": [
    "from parts import * \n",
    "\n",
    "# import file parts.py"
   ]
  },
  {
   "cell_type": "markdown",
   "metadata": {},
   "source": [
    "### VI. Decorator to time your functions<a name= \"VI\"></a>"
   ]
  },
  {
   "cell_type": "markdown",
   "metadata": {},
   "source": [
    "It's often useful to know how long it takes a function to run, e.g when you need to compare the performance of two algorithms that do the same thing. One naive way is to call **time.time()** at the begin and end of each function and print out the difference.\n",
    "\n",
    "For example: compare two algorithms to calculate the n-th Fibonacci number, one uses memoization and one doesn't."
   ]
  },
  {
   "cell_type": "code",
   "execution_count": 95,
   "metadata": {},
   "outputs": [],
   "source": [
    "def fib_helper(n):\n",
    "    if n < 2:\n",
    "        return n\n",
    "    return fib_helper(n - 1) + fib_helper(n - 2)\n",
    "\n",
    "def fib(n):\n",
    "    \"\"\" fib is a wrapper function so that later we can change its behavior\n",
    "    at the top level without affecting the behavior at every recursion step.\n",
    "    \"\"\"\n",
    "    return fib_helper(n)\n",
    "\n",
    "def fib_m_helper(n, computed):\n",
    "    if n in computed:\n",
    "        return computed[n]\n",
    "    computed[n] = fib_m_helper(n - 1, computed) + fib_m_helper(n - 2, computed)\n",
    "    return computed[n]\n",
    "\n",
    "def fib_m(n):\n",
    "    return fib_m_helper(n, {0: 0, 1: 1})"
   ]
  },
  {
   "cell_type": "code",
   "execution_count": 96,
   "metadata": {},
   "outputs": [],
   "source": [
    "for n in range(20):\n",
    "    assert fib(n) == fib_m(n)"
   ]
  },
  {
   "cell_type": "code",
   "execution_count": 99,
   "metadata": {},
   "outputs": [
    {
     "name": "stdout",
     "output_type": "stream",
     "text": [
      "Without memoization, it takes 0.662593 seconds.\n",
      "With memoization, it takes 0.0000000 seconds.\n"
     ]
    }
   ],
   "source": [
    "import time\n",
    "\n",
    "start = time.time()\n",
    "fib(30)\n",
    "print(f'Without memoization, it takes {time.time() - start:7f} seconds.')\n",
    "\n",
    "start = time.time()\n",
    "fib_m(30)\n",
    "print(f'With memoization, it takes {time.time() - start:.7f} seconds.')"
   ]
  },
  {
   "cell_type": "markdown",
   "metadata": {},
   "source": [
    "If you want to time multiple functions, it can be a drag having to write the same code over and over again. It'd be nice to have a way to specify how to change any function in the same way. In this case would be to call **time.time()** at the beginning and the end of each function, and print out the time difference\n",
    "\n",
    "This is exactly what decorators do. They allow programmers to change the behavior of a function or class. Here's an example to create a decorator **timeit**."
   ]
  },
  {
   "cell_type": "code",
   "execution_count": 100,
   "metadata": {},
   "outputs": [],
   "source": [
    "def timeit(fn): \n",
    "    # *args and **kwargs are to support positional and named arguments of fn\n",
    "    def get_time(*args, **kwargs): \n",
    "        start = time.time() \n",
    "        output = fn(*args, **kwargs)\n",
    "        print(f\"Time taken in {fn.__name__}: {time.time() - start:.7f}\")\n",
    "        return output  # make sure that the decorator returns the output of fn\n",
    "    return get_time "
   ]
  },
  {
   "cell_type": "markdown",
   "metadata": {},
   "source": [
    "Add the decorator **@timeit** to your functions."
   ]
  },
  {
   "cell_type": "code",
   "execution_count": 102,
   "metadata": {},
   "outputs": [
    {
     "name": "stdout",
     "output_type": "stream",
     "text": [
      "Time taken in fib: 0.6815777\n",
      "Time taken in fib_m: 0.0000000\n"
     ]
    },
    {
     "data": {
      "text/plain": [
       "832040"
      ]
     },
     "execution_count": 102,
     "metadata": {},
     "output_type": "execute_result"
    }
   ],
   "source": [
    "@timeit\n",
    "def fib(n):\n",
    "    return fib_helper(n)\n",
    "\n",
    "@timeit\n",
    "def fib_m(n):\n",
    "    return fib_m_helper(n, {0: 0, 1: 1})\n",
    "\n",
    "fib(30)\n",
    "fib_m(30)\n"
   ]
  },
  {
   "cell_type": "markdown",
   "metadata": {},
   "source": [
    "### VII. Caching with @functools.lru_cache<a name= \"VII\"></a>"
   ]
  },
  {
   "cell_type": "markdown",
   "metadata": {},
   "source": [
    "Memoization is a form of cache: we cache the previously calculated Fibonacci numbers so that we don't have to calculate them again.\n",
    "\n",
    "Caching is such an important technique that Python provides a built-in decorator to give your function the caching capacity. If you want **fib_helper** to reuse the previously calculated Fibonacci numbers, you can just add the decorator **lru_cache** from **functools**. **lru** stands for \"least recently used\". For more information on cache, see [here](https://docs.python.org/3/library/functools.html)."
   ]
  },
  {
   "cell_type": "code",
   "execution_count": 103,
   "metadata": {},
   "outputs": [
    {
     "name": "stdout",
     "output_type": "stream",
     "text": [
      "Time taken in fib: 0.0000000\n",
      "Time taken in fib_m: 0.0000000\n"
     ]
    },
    {
     "data": {
      "text/plain": [
       "12586269025"
      ]
     },
     "execution_count": 103,
     "metadata": {},
     "output_type": "execute_result"
    }
   ],
   "source": [
    "import functools\n",
    "\n",
    "@functools.lru_cache()\n",
    "def fib_helper(n):\n",
    "    if n < 2:\n",
    "        return n\n",
    "    return fib_helper(n - 1) + fib_helper(n - 2)\n",
    "\n",
    "@timeit\n",
    "def fib(n):\n",
    "    \"\"\" fib is a wrapper function so that later we can change its behavior\n",
    "    at the top level without affecting the behavior at every recursion step.\n",
    "    \"\"\"\n",
    "    return fib_helper(n)\n",
    "\n",
    "fib(50)\n",
    "fib_m(50)"
   ]
  },
  {
   "cell_type": "markdown",
   "metadata": {},
   "source": [
    "Soure post: [github chiphuyen](https://github.com/chiphuyen/python-is-cool#1-lambda-map-filter-reduce)"
   ]
  }
 ],
 "metadata": {
  "kernelspec": {
   "display_name": "Python 3",
   "language": "python",
   "name": "python3"
  },
  "language_info": {
   "codemirror_mode": {
    "name": "ipython",
    "version": 3
   },
   "file_extension": ".py",
   "mimetype": "text/x-python",
   "name": "python",
   "nbconvert_exporter": "python",
   "pygments_lexer": "ipython3",
   "version": "3.8.3"
  }
 },
 "nbformat": 4,
 "nbformat_minor": 4
}
